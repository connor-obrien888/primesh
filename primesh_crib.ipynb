{
 "cells": [
  {
   "cell_type": "code",
   "execution_count": null,
   "metadata": {},
   "outputs": [],
   "source": [
    "import numpy as np\n",
    "import pandas as pd\n",
    "import tensorflow as tf\n",
    "from tensorflow import keras as ks\n",
    "import prime as pr\n",
    "\n",
    "primesh = pr.prime() #Create a prime object#Here we construct a single-point input for PRIME-SH.\n",
    "#This line expects primesh.h5, and all scaler .pkl files to be in the same directory as this notebook.\n"
   ]
  },
  {
   "cell_type": "code",
   "execution_count": null,
   "metadata": {},
   "outputs": [],
   "source": [
    "#PRIME-SH expects timeseries as input, so we need to construct a timeseries of length \"window\" with the same input values.\n",
    "\n",
    "window = primesh.window #Length of timeseries needed for PRIME-SH\n",
    "stride = primesh.stride #Stride of the timeseries\n",
    "test_input = pd.DataFrame(columns = primesh.in_keys) #Initialize single-point input dataframe\n",
    "test_input['B_xgsm'] = 0*np.ones(window) #SW BX in nT (GSM coordinates)\n",
    "test_input['B_ygsm'] = 0*np.ones(window) #SW BY in nT (GSM coordinates)\n",
    "test_input['B_zgsm'] = -5*np.ones(window) #SW BZ in nT (GSM coordinates)\n",
    "test_input['Vi_xgse'] = -400*np.ones(window) #SW X velocity in km/s (GSE coordinates)\n",
    "test_input['Vi_ygse'] = 0*np.ones(window) #SW Y velocity in km/s\n",
    "test_input['Vi_zgse'] = 0*np.ones(window) #SW Z velocity in km/s\n",
    "test_input['Ni'] = 5*np.ones(window) #SW density in cm^-3\n",
    "test_input['Vth'] = 30*np.ones(window) #SW thermal velocity in km/s\n",
    "test_input['R_xgse'] = 200*np.ones(window) #Wind position in X GSE (RE)\n",
    "test_input['R_ygse'] = 0*np.ones(window) #Wind position in Y GSE\n",
    "test_input['R_zgse'] = 0*np.ones(window) #Wind position in Z GSE\n",
    "\n",
    "#This is where the location you're propagating to is set.\n",
    "#Each entry in the \"timeseries\" is set to the same value, no need to make a fake MMS orbit.\n",
    "test_input['target_R_xgse'] = 14*np.ones(window) #MMS position in X GSE (RE)\n",
    "test_input['target_R_ygse'] = 0*np.ones(window) #MMS position in Y GSE\n",
    "test_input['target_R_zgse'] = 0*np.ones(window) #MMS position in Z GSE\n",
    "\n",
    "#PRIME-SH also currently expects an 'Epoch' for its inputs. This is helpful for ordering the timeseries, but makes little sense for a single point like we're doing here.\n",
    "#Here we concoct a window of time that results in a prediction at UNIX timestamp 0.\n",
    "test_input['Epoch'] = pd.date_range(start='1970-01-01 00:00:00', periods=window, freq='100s') - pd.Timedelta(hours = 2)\n",
    "\n",
    "#Make one prediction. Predictions are returned as pandas dataframes.\n",
    "primesh.predict(test_input)\n"
   ]
  },
  {
   "cell_type": "code",
   "execution_count": null,
   "metadata": {},
   "outputs": [],
   "source": [
    "#Here we construct a grid of inputs for PRIME-SH.\n",
    "gridsize = 0.5 #Size of the grid to calculate the magnetosheath conditions on (RE)\n",
    "x_extent = [0,20] #Set the GSE X extent of the grid\n",
    "y_extent = [-30,30] #Set the GSE Y extent of the grid\n",
    "\n",
    "#This line will calculate the magnetosheath conditions at each point in the grid for one set of solar wind inputs.\n",
    "sheath_grid_single = primesh.predict_grid(gridsize = gridsize, x_extent = x_extent, y_extent = y_extent, framenum = 1,\n",
    "                                   bx = 0, by = 0, bz = -5, vx = -400, vy = 0, vz = 0, ni = 5, vt = 30,\n",
    "                                   rx = 200, ry = 0, rz = 0, loc_mask = True, subtract_ecliptic=True)\n",
    "\n",
    "#For a range of solar wind inputs, specify the inputs as a list, and set framenum to the length of the list.\n",
    "bz = [-5, 5]\n",
    "framenum = len(bz)\n",
    "bx = 0*np.ones(framenum) #Currently, bx, by, bz, and ni must be the same size if specified as a list\n",
    "by = 0*np.ones(framenum)\n",
    "ni = 5*np.ones(framenum)\n",
    "sheath_grid_range = primesh.predict_grid(gridsize = gridsize, x_extent = x_extent, y_extent = y_extent, framenum = framenum,\n",
    "                                   bx = 0, by = 0, bz = bz, vx = -400, vy = 0, vz = 0, ni = ni, vt = 30,\n",
    "                                   rx = 200, ry = 0, rz = 0, loc_mask = True, subtract_ecliptic=True)\n",
    "\n",
    "#Each sheath_grid has shape [framenum, x_grid, y_grid, primesh.tar_keys]\n"
   ]
  }
 ],
 "metadata": {
  "kernelspec": {
   "display_name": "primesh-yvOHzGvw-py3.8",
   "language": "python",
   "name": "python3"
  },
  "language_info": {
   "codemirror_mode": {
    "name": "ipython",
    "version": 3
   },
   "file_extension": ".py",
   "mimetype": "text/x-python",
   "name": "python",
   "nbconvert_exporter": "python",
   "pygments_lexer": "ipython3",
   "version": "3.10.12"
  }
 },
 "nbformat": 4,
 "nbformat_minor": 2
}
